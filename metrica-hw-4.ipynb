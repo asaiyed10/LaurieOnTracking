{
 "cells": [
  {
   "cell_type": "code",
   "execution_count": null,
   "metadata": {},
   "outputs": [],
   "source": []
  },
  {
   "cell_type": "markdown",
   "metadata": {},
   "source": [
    "### Homework \n",
    "\n",
    "1. Plot the passes and shots leading up to the second and third goals of the match \n",
    "\n",
    "2. Plot all the shots by player 9 of the home team. Use a different symbol and transparancy (alpha) for shots that resulted in goals. \n",
    "\n",
    "3. Plot the positions of all players at Player 9's goal\n",
    "\n",
    "4. Calculate how far each player ran \n",
    "\n"
   ]
  },
  {
   "cell_type": "code",
   "execution_count": 93,
   "metadata": {},
   "outputs": [],
   "source": [
    "import LaurieOnTracking.Metrica_IO as mio\n",
    "import LaurieOnTracking.Metrica_Viz as mviz\n",
    "import LaurieOnTracking.Metrica_Velocities as mvel\n",
    "\n",
    "import numpy as np\n",
    "import scipy.signal as signal\n"
   ]
  },
  {
   "cell_type": "code",
   "execution_count": 2,
   "metadata": {},
   "outputs": [],
   "source": [
    "# set up initial path to data\n",
    "DATADIR = 'sample-data/data/'\n",
    "game_id = 2 # let's look at sample match 2\n"
   ]
  },
  {
   "cell_type": "code",
   "execution_count": 3,
   "metadata": {},
   "outputs": [],
   "source": [
    "events = mio.read_event_data(DATADIR,game_id)\n",
    "events = mio.to_metric_coordinates(events)"
   ]
  },
  {
   "cell_type": "code",
   "execution_count": 4,
   "metadata": {},
   "outputs": [],
   "source": [
    "# Add a column event 'Minute' to the data frame\n",
    "events['Minute'] = events['Start Time [s]']/60."
   ]
  },
  {
   "cell_type": "code",
   "execution_count": 5,
   "metadata": {},
   "outputs": [],
   "source": [
    "## list of columns not including minutes \n",
    "cols_without_minutes = events.columns[:14]"
   ]
  },
  {
   "cell_type": "code",
   "execution_count": null,
   "metadata": {},
   "outputs": [],
   "source": []
  },
  {
   "cell_type": "code",
   "execution_count": 6,
   "metadata": {},
   "outputs": [
    {
     "data": {
      "text/html": [
       "<div>\n",
       "<style scoped>\n",
       "    .dataframe tbody tr th:only-of-type {\n",
       "        vertical-align: middle;\n",
       "    }\n",
       "\n",
       "    .dataframe tbody tr th {\n",
       "        vertical-align: top;\n",
       "    }\n",
       "\n",
       "    .dataframe thead th {\n",
       "        text-align: right;\n",
       "    }\n",
       "</style>\n",
       "<table border=\"1\" class=\"dataframe\">\n",
       "  <thead>\n",
       "    <tr style=\"text-align: right;\">\n",
       "      <th></th>\n",
       "      <th>Team</th>\n",
       "      <th>Type</th>\n",
       "      <th>Subtype</th>\n",
       "      <th>Period</th>\n",
       "      <th>Start Frame</th>\n",
       "      <th>Start Time [s]</th>\n",
       "      <th>End Frame</th>\n",
       "      <th>End Time [s]</th>\n",
       "      <th>From</th>\n",
       "      <th>To</th>\n",
       "      <th>Start X</th>\n",
       "      <th>Start Y</th>\n",
       "      <th>End X</th>\n",
       "      <th>End Y</th>\n",
       "      <th>Minute</th>\n",
       "    </tr>\n",
       "  </thead>\n",
       "  <tbody>\n",
       "    <tr>\n",
       "      <th>198</th>\n",
       "      <td>Home</td>\n",
       "      <td>SHOT</td>\n",
       "      <td>ON TARGET-GOAL</td>\n",
       "      <td>1</td>\n",
       "      <td>12202</td>\n",
       "      <td>488.08</td>\n",
       "      <td>12212</td>\n",
       "      <td>488.48</td>\n",
       "      <td>Player10</td>\n",
       "      <td>NaN</td>\n",
       "      <td>-47.70</td>\n",
       "      <td>-3.40</td>\n",
       "      <td>-54.06</td>\n",
       "      <td>-2.04</td>\n",
       "      <td>8.134667</td>\n",
       "    </tr>\n",
       "    <tr>\n",
       "      <th>823</th>\n",
       "      <td>Away</td>\n",
       "      <td>SHOT</td>\n",
       "      <td>ON TARGET-GOAL</td>\n",
       "      <td>1</td>\n",
       "      <td>53049</td>\n",
       "      <td>2121.96</td>\n",
       "      <td>53075</td>\n",
       "      <td>2123.00</td>\n",
       "      <td>Player24</td>\n",
       "      <td>NaN</td>\n",
       "      <td>44.52</td>\n",
       "      <td>2.72</td>\n",
       "      <td>54.06</td>\n",
       "      <td>1.36</td>\n",
       "      <td>35.366000</td>\n",
       "    </tr>\n",
       "    <tr>\n",
       "      <th>1118</th>\n",
       "      <td>Home</td>\n",
       "      <td>SHOT</td>\n",
       "      <td>HEAD-ON TARGET-GOAL</td>\n",
       "      <td>2</td>\n",
       "      <td>73983</td>\n",
       "      <td>2959.32</td>\n",
       "      <td>73995</td>\n",
       "      <td>2959.80</td>\n",
       "      <td>Player9</td>\n",
       "      <td>NaN</td>\n",
       "      <td>47.70</td>\n",
       "      <td>-1.36</td>\n",
       "      <td>54.06</td>\n",
       "      <td>-2.04</td>\n",
       "      <td>49.322000</td>\n",
       "    </tr>\n",
       "    <tr>\n",
       "      <th>1671</th>\n",
       "      <td>Away</td>\n",
       "      <td>SHOT</td>\n",
       "      <td>ON TARGET-GOAL</td>\n",
       "      <td>2</td>\n",
       "      <td>115009</td>\n",
       "      <td>4600.36</td>\n",
       "      <td>115024</td>\n",
       "      <td>4600.96</td>\n",
       "      <td>Player20</td>\n",
       "      <td>NaN</td>\n",
       "      <td>-40.28</td>\n",
       "      <td>-1.36</td>\n",
       "      <td>-55.12</td>\n",
       "      <td>-2.72</td>\n",
       "      <td>76.672667</td>\n",
       "    </tr>\n",
       "    <tr>\n",
       "      <th>1723</th>\n",
       "      <td>Home</td>\n",
       "      <td>SHOT</td>\n",
       "      <td>ON TARGET-GOAL</td>\n",
       "      <td>2</td>\n",
       "      <td>121027</td>\n",
       "      <td>4841.08</td>\n",
       "      <td>121055</td>\n",
       "      <td>4842.20</td>\n",
       "      <td>Player12</td>\n",
       "      <td>NaN</td>\n",
       "      <td>30.74</td>\n",
       "      <td>-5.44</td>\n",
       "      <td>54.06</td>\n",
       "      <td>-2.72</td>\n",
       "      <td>80.684667</td>\n",
       "    </tr>\n",
       "  </tbody>\n",
       "</table>\n",
       "</div>"
      ],
      "text/plain": [
       "      Team  Type              Subtype  Period  Start Frame  Start Time [s]  \\\n",
       "198   Home  SHOT       ON TARGET-GOAL       1        12202          488.08   \n",
       "823   Away  SHOT       ON TARGET-GOAL       1        53049         2121.96   \n",
       "1118  Home  SHOT  HEAD-ON TARGET-GOAL       2        73983         2959.32   \n",
       "1671  Away  SHOT       ON TARGET-GOAL       2       115009         4600.36   \n",
       "1723  Home  SHOT       ON TARGET-GOAL       2       121027         4841.08   \n",
       "\n",
       "      End Frame  End Time [s]      From   To  Start X  Start Y  End X  End Y  \\\n",
       "198       12212        488.48  Player10  NaN   -47.70    -3.40 -54.06  -2.04   \n",
       "823       53075       2123.00  Player24  NaN    44.52     2.72  54.06   1.36   \n",
       "1118      73995       2959.80   Player9  NaN    47.70    -1.36  54.06  -2.04   \n",
       "1671     115024       4600.96  Player20  NaN   -40.28    -1.36 -55.12  -2.72   \n",
       "1723     121055       4842.20  Player12  NaN    30.74    -5.44  54.06  -2.72   \n",
       "\n",
       "         Minute  \n",
       "198    8.134667  \n",
       "823   35.366000  \n",
       "1118  49.322000  \n",
       "1671  76.672667  \n",
       "1723  80.684667  "
      ]
     },
     "execution_count": 6,
     "metadata": {},
     "output_type": "execute_result"
    }
   ],
   "source": [
    "### All goals in match, with minute \n",
    "events.loc[events['Subtype'].str.contains('TARGET-GOAL',na=False)]"
   ]
  },
  {
   "cell_type": "code",
   "execution_count": 7,
   "metadata": {},
   "outputs": [],
   "source": [
    "## Create dictionary of goal event data \n",
    "goals_dict = events.loc[events['Subtype'].str.contains('TARGET-GOAL',na=False)].to_dict(orient='index')"
   ]
  },
  {
   "cell_type": "code",
   "execution_count": 8,
   "metadata": {},
   "outputs": [
    {
     "data": {
      "text/plain": [
       "[198, 823, 1118, 1671, 1723]"
      ]
     },
     "execution_count": 8,
     "metadata": {},
     "output_type": "execute_result"
    }
   ],
   "source": [
    "## Index + 1 == \"GOAL\" sequential order \n",
    "goals_key = list(goals_dict.keys())\n",
    "goals_key"
   ]
  },
  {
   "cell_type": "markdown",
   "metadata": {},
   "source": [
    "### Shots and passes leading up to GOAL 2 "
   ]
  },
  {
   "cell_type": "code",
   "execution_count": 9,
   "metadata": {},
   "outputs": [],
   "source": [
    "## All events between goal 1 and goal 2, inclusive for goal 2 \n",
    "\n",
    "events_g1_g2 = events.loc[\n",
    "    (events['Minute']> events.iloc[goals_key[0]]['Minute']) & \n",
    "    (events['Minute']<= events.iloc[goals_key[1]]['Minute'])]"
   ]
  },
  {
   "cell_type": "code",
   "execution_count": 10,
   "metadata": {},
   "outputs": [],
   "source": [
    "### SHOT and PASS event data between goal 1 and goal 2 \n",
    "events_g1_g2_shot_pass = events_g1_g2.loc[(events_g1_g2['Type']=='SHOT') | \n",
    "                                          (events_g1_g2['Type']=='PASS')]"
   ]
  },
  {
   "cell_type": "code",
   "execution_count": 11,
   "metadata": {},
   "outputs": [
    {
     "data": {
      "text/plain": [
       "(<matplotlib.figure.Figure at 0x1130bcb70>,\n",
       " <matplotlib.axes._subplots.AxesSubplot at 0x1130f74a8>)"
      ]
     },
     "execution_count": 11,
     "metadata": {},
     "output_type": "execute_result"
    },
    {
     "data": {
      "image/png": "[encoded data removed]",
      "text/plain": [
       "<matplotlib.figure.Figure at 0x1130bcb70>"
      ]
     },
     "metadata": {},
     "output_type": "display_data"
    }
   ],
   "source": [
    "## n-Evenets before goal \n",
    "## Color coded home and away teams passing and shot maps \n",
    "\n",
    "## RED = HOME\n",
    "## BLUE = AWAY \n",
    "\n",
    "n = 20\n",
    "mviz.plot_events_w_team_filter(events_g1_g2_shot_pass[cols_without_minutes][-n:], \n",
    "                 indicators = ['Marker','Arrow'], annotate=True,)"
   ]
  },
  {
   "cell_type": "markdown",
   "metadata": {},
   "source": [
    "### Shots and passes leading up to GOAL 3"
   ]
  },
  {
   "cell_type": "code",
   "execution_count": 12,
   "metadata": {},
   "outputs": [],
   "source": [
    "## All events between goal 1 and goal 2, inclusive for goal 2 \n",
    "\n",
    "events_g2_g3 = events.loc[\n",
    "    (events['Minute']> events.iloc[goals_key[1]]['Minute']) & \n",
    "    (events['Minute']<= events.iloc[goals_key[2]]['Minute'])]"
   ]
  },
  {
   "cell_type": "code",
   "execution_count": 13,
   "metadata": {},
   "outputs": [],
   "source": [
    "### SHOT and PASS event data between goal 1 and goal 2 \n",
    "events_g2_g3_shot_pass = events_g2_g3.loc[(events_g2_g3['Type']=='SHOT') | \n",
    "                                          (events_g2_g3['Type']=='PASS')]"
   ]
  },
  {
   "cell_type": "code",
   "execution_count": 14,
   "metadata": {},
   "outputs": [
    {
     "data": {
      "text/plain": [
       "(<matplotlib.figure.Figure at 0x1135cfe48>,\n",
       " <matplotlib.axes._subplots.AxesSubplot at 0x1135e44a8>)"
      ]
     },
     "execution_count": 14,
     "metadata": {},
     "output_type": "execute_result"
    },
    {
     "data": {
      "image/png": "[encoded data removed]",
      "text/plain": [
       "<matplotlib.figure.Figure at 0x1135cfe48>"
      ]
     },
     "metadata": {},
     "output_type": "display_data"
    }
   ],
   "source": [
    "## n-Evenets before goal \n",
    "## Color coded home and away teams passing and shot maps \n",
    "\n",
    "n = 20\n",
    "mviz.plot_events_w_team_filter(events_g2_g3_shot_pass[cols_without_minutes][-n:], \n",
    "                 indicators = ['Marker','Arrow'], annotate=True,)"
   ]
  },
  {
   "cell_type": "markdown",
   "metadata": {},
   "source": [
    "### Plot all the shots by player 9 of the home team. Use a different symbol and transparancy (alpha) for shots that resulted in goals. \n",
    "\n",
    "\n",
    "\n"
   ]
  },
  {
   "cell_type": "code",
   "execution_count": 15,
   "metadata": {},
   "outputs": [],
   "source": [
    "shots_player_9_home = events.loc[(events['Team']=='Home') & (events['Type']=='SHOT') & (events['From']=='Player9') ]"
   ]
  },
  {
   "cell_type": "code",
   "execution_count": 16,
   "metadata": {},
   "outputs": [
    {
     "data": {
      "text/html": [
       "<div>\n",
       "<style scoped>\n",
       "    .dataframe tbody tr th:only-of-type {\n",
       "        vertical-align: middle;\n",
       "    }\n",
       "\n",
       "    .dataframe tbody tr th {\n",
       "        vertical-align: top;\n",
       "    }\n",
       "\n",
       "    .dataframe thead th {\n",
       "        text-align: right;\n",
       "    }\n",
       "</style>\n",
       "<table border=\"1\" class=\"dataframe\">\n",
       "  <thead>\n",
       "    <tr style=\"text-align: right;\">\n",
       "      <th></th>\n",
       "      <th>Team</th>\n",
       "      <th>Type</th>\n",
       "      <th>Subtype</th>\n",
       "      <th>Period</th>\n",
       "      <th>Start Frame</th>\n",
       "      <th>Start Time [s]</th>\n",
       "      <th>End Frame</th>\n",
       "      <th>End Time [s]</th>\n",
       "      <th>From</th>\n",
       "      <th>To</th>\n",
       "      <th>Start X</th>\n",
       "      <th>Start Y</th>\n",
       "      <th>End X</th>\n",
       "      <th>End Y</th>\n",
       "      <th>Minute</th>\n",
       "    </tr>\n",
       "  </thead>\n",
       "  <tbody>\n",
       "    <tr>\n",
       "      <th>1118</th>\n",
       "      <td>Home</td>\n",
       "      <td>SHOT</td>\n",
       "      <td>HEAD-ON TARGET-GOAL</td>\n",
       "      <td>2</td>\n",
       "      <td>73983</td>\n",
       "      <td>2959.32</td>\n",
       "      <td>73995</td>\n",
       "      <td>2959.8</td>\n",
       "      <td>Player9</td>\n",
       "      <td>NaN</td>\n",
       "      <td>47.70</td>\n",
       "      <td>-1.36</td>\n",
       "      <td>54.06</td>\n",
       "      <td>-2.04</td>\n",
       "      <td>49.322000</td>\n",
       "    </tr>\n",
       "    <tr>\n",
       "      <th>1681</th>\n",
       "      <td>Home</td>\n",
       "      <td>SHOT</td>\n",
       "      <td>HEAD-OFF TARGET-OUT</td>\n",
       "      <td>2</td>\n",
       "      <td>117218</td>\n",
       "      <td>4688.72</td>\n",
       "      <td>117245</td>\n",
       "      <td>4689.8</td>\n",
       "      <td>Player9</td>\n",
       "      <td>NaN</td>\n",
       "      <td>41.34</td>\n",
       "      <td>-7.48</td>\n",
       "      <td>54.06</td>\n",
       "      <td>5.44</td>\n",
       "      <td>78.145333</td>\n",
       "    </tr>\n",
       "    <tr>\n",
       "      <th>1756</th>\n",
       "      <td>Home</td>\n",
       "      <td>SHOT</td>\n",
       "      <td>HEAD-OFF TARGET-OUT</td>\n",
       "      <td>2</td>\n",
       "      <td>124336</td>\n",
       "      <td>4973.44</td>\n",
       "      <td>124365</td>\n",
       "      <td>4974.6</td>\n",
       "      <td>Player9</td>\n",
       "      <td>NaN</td>\n",
       "      <td>45.58</td>\n",
       "      <td>-0.00</td>\n",
       "      <td>55.12</td>\n",
       "      <td>-7.48</td>\n",
       "      <td>82.890667</td>\n",
       "    </tr>\n",
       "    <tr>\n",
       "      <th>1927</th>\n",
       "      <td>Home</td>\n",
       "      <td>SHOT</td>\n",
       "      <td>ON TARGET-SAVED</td>\n",
       "      <td>2</td>\n",
       "      <td>139891</td>\n",
       "      <td>5595.64</td>\n",
       "      <td>139925</td>\n",
       "      <td>5597.0</td>\n",
       "      <td>Player9</td>\n",
       "      <td>NaN</td>\n",
       "      <td>21.20</td>\n",
       "      <td>-1.36</td>\n",
       "      <td>50.88</td>\n",
       "      <td>-1.36</td>\n",
       "      <td>93.260667</td>\n",
       "    </tr>\n",
       "  </tbody>\n",
       "</table>\n",
       "</div>"
      ],
      "text/plain": [
       "      Team  Type              Subtype  Period  Start Frame  Start Time [s]  \\\n",
       "1118  Home  SHOT  HEAD-ON TARGET-GOAL       2        73983         2959.32   \n",
       "1681  Home  SHOT  HEAD-OFF TARGET-OUT       2       117218         4688.72   \n",
       "1756  Home  SHOT  HEAD-OFF TARGET-OUT       2       124336         4973.44   \n",
       "1927  Home  SHOT      ON TARGET-SAVED       2       139891         5595.64   \n",
       "\n",
       "      End Frame  End Time [s]     From   To  Start X  Start Y  End X  End Y  \\\n",
       "1118      73995        2959.8  Player9  NaN    47.70    -1.36  54.06  -2.04   \n",
       "1681     117245        4689.8  Player9  NaN    41.34    -7.48  54.06   5.44   \n",
       "1756     124365        4974.6  Player9  NaN    45.58    -0.00  55.12  -7.48   \n",
       "1927     139925        5597.0  Player9  NaN    21.20    -1.36  50.88  -1.36   \n",
       "\n",
       "         Minute  \n",
       "1118  49.322000  \n",
       "1681  78.145333  \n",
       "1756  82.890667  \n",
       "1927  93.260667  "
      ]
     },
     "execution_count": 16,
     "metadata": {},
     "output_type": "execute_result"
    }
   ],
   "source": [
    "shots_player_9_home"
   ]
  },
  {
   "cell_type": "code",
   "execution_count": 17,
   "metadata": {},
   "outputs": [
    {
     "name": "stdout",
     "output_type": "stream",
     "text": [
      "HEAD-ON TARGET-GOAL\n",
      "HEAD-OFF TARGET-OUT\n",
      "HEAD-OFF TARGET-OUT\n",
      "ON TARGET-SAVED\n"
     ]
    },
    {
     "data": {
      "text/plain": [
       "(<matplotlib.figure.Figure at 0x1135cf710>,\n",
       " <matplotlib.axes._subplots.AxesSubplot at 0x113b75978>)"
      ]
     },
     "execution_count": 17,
     "metadata": {},
     "output_type": "execute_result"
    },
    {
     "data": {
      "image/png": "[encoded data removed]",
      "text/plain": [
       "<matplotlib.figure.Figure at 0x1135cf710>"
      ]
     },
     "metadata": {},
     "output_type": "display_data"
    }
   ],
   "source": [
    "### GOAL IS A DIFFERENT COLOR AND SYMBOL VS ALL OTHER SHOTS -- a bit inconsistent with home vs away color scheme above wh\n",
    "mviz.plot_shots(shots_player_9_home,indicators = ['Marker','Arrow'], annotate=True,alpha=.3)"
   ]
  },
  {
   "cell_type": "markdown",
   "metadata": {},
   "source": [
    "### Plot the positions of all players at Player 9's goal\n"
   ]
  },
  {
   "cell_type": "code",
   "execution_count": 58,
   "metadata": {},
   "outputs": [
    {
     "name": "stdout",
     "output_type": "stream",
     "text": [
      "Reading team: home\n",
      "Reading team: away\n"
     ]
    }
   ],
   "source": [
    "tracking_home = mio.tracking_data(DATADIR,game_id,'home')\n",
    "tracking_away = mio.tracking_data(DATADIR,game_id,'away')\n",
    "\n",
    "# Convert positions from metrica units to meters \n",
    "tracking_home = mio.to_metric_coordinates(tracking_home)\n",
    "tracking_away = mio.to_metric_coordinates(tracking_away)"
   ]
  },
  {
   "cell_type": "code",
   "execution_count": null,
   "metadata": {},
   "outputs": [],
   "source": []
  },
  {
   "cell_type": "code",
   "execution_count": 59,
   "metadata": {},
   "outputs": [],
   "source": [
    "tracking_data = mio.merge_tracking_data(tracking_home,tracking_away)"
   ]
  },
  {
   "cell_type": "code",
   "execution_count": 60,
   "metadata": {},
   "outputs": [
    {
     "data": {
      "text/plain": [
       "141156"
      ]
     },
     "execution_count": 60,
     "metadata": {},
     "output_type": "execute_result"
    }
   ],
   "source": [
    "len(tracking_home)"
   ]
  },
  {
   "cell_type": "code",
   "execution_count": 61,
   "metadata": {},
   "outputs": [
    {
     "data": {
      "text/plain": [
       "141156"
      ]
     },
     "execution_count": 61,
     "metadata": {},
     "output_type": "execute_result"
    }
   ],
   "source": [
    "len(tracking_away)"
   ]
  },
  {
   "cell_type": "code",
   "execution_count": 72,
   "metadata": {},
   "outputs": [],
   "source": [
    "tracking_data['Minute'] = tracking_data['Time [s]_x']/60."
   ]
  },
  {
   "cell_type": "code",
   "execution_count": 75,
   "metadata": {},
   "outputs": [
    {
     "data": {
      "text/html": [
       "<div>\n",
       "<style scoped>\n",
       "    .dataframe tbody tr th:only-of-type {\n",
       "        vertical-align: middle;\n",
       "    }\n",
       "\n",
       "    .dataframe tbody tr th {\n",
       "        vertical-align: top;\n",
       "    }\n",
       "\n",
       "    .dataframe thead th {\n",
       "        text-align: right;\n",
       "    }\n",
       "</style>\n",
       "<table border=\"1\" class=\"dataframe\">\n",
       "  <thead>\n",
       "    <tr style=\"text-align: right;\">\n",
       "      <th></th>\n",
       "      <th>Team</th>\n",
       "      <th>Type</th>\n",
       "      <th>Subtype</th>\n",
       "      <th>Period</th>\n",
       "      <th>Start Frame</th>\n",
       "      <th>Start Time [s]</th>\n",
       "      <th>End Frame</th>\n",
       "      <th>End Time [s]</th>\n",
       "      <th>From</th>\n",
       "      <th>To</th>\n",
       "      <th>Start X</th>\n",
       "      <th>Start Y</th>\n",
       "      <th>End X</th>\n",
       "      <th>End Y</th>\n",
       "      <th>Minute</th>\n",
       "    </tr>\n",
       "  </thead>\n",
       "  <tbody>\n",
       "    <tr>\n",
       "      <th>1117</th>\n",
       "      <td>Home</td>\n",
       "      <td>CHALLENGE</td>\n",
       "      <td>AERIAL-WON</td>\n",
       "      <td>2</td>\n",
       "      <td>73983</td>\n",
       "      <td>2959.32</td>\n",
       "      <td>73983</td>\n",
       "      <td>2959.32</td>\n",
       "      <td>Player9</td>\n",
       "      <td>NaN</td>\n",
       "      <td>47.70</td>\n",
       "      <td>-1.36</td>\n",
       "      <td>NaN</td>\n",
       "      <td>NaN</td>\n",
       "      <td>49.322</td>\n",
       "    </tr>\n",
       "    <tr>\n",
       "      <th>1118</th>\n",
       "      <td>Home</td>\n",
       "      <td>SHOT</td>\n",
       "      <td>HEAD-ON TARGET-GOAL</td>\n",
       "      <td>2</td>\n",
       "      <td>73983</td>\n",
       "      <td>2959.32</td>\n",
       "      <td>73995</td>\n",
       "      <td>2959.80</td>\n",
       "      <td>Player9</td>\n",
       "      <td>NaN</td>\n",
       "      <td>47.70</td>\n",
       "      <td>-1.36</td>\n",
       "      <td>54.06</td>\n",
       "      <td>-2.04</td>\n",
       "      <td>49.322</td>\n",
       "    </tr>\n",
       "    <tr>\n",
       "      <th>1119</th>\n",
       "      <td>Away</td>\n",
       "      <td>CHALLENGE</td>\n",
       "      <td>AERIAL-LOST</td>\n",
       "      <td>2</td>\n",
       "      <td>73983</td>\n",
       "      <td>2959.32</td>\n",
       "      <td>73983</td>\n",
       "      <td>2959.32</td>\n",
       "      <td>Player18</td>\n",
       "      <td>NaN</td>\n",
       "      <td>46.64</td>\n",
       "      <td>-2.72</td>\n",
       "      <td>NaN</td>\n",
       "      <td>NaN</td>\n",
       "      <td>49.322</td>\n",
       "    </tr>\n",
       "  </tbody>\n",
       "</table>\n",
       "</div>"
      ],
      "text/plain": [
       "      Team       Type              Subtype  Period  Start Frame  \\\n",
       "1117  Home  CHALLENGE           AERIAL-WON       2        73983   \n",
       "1118  Home       SHOT  HEAD-ON TARGET-GOAL       2        73983   \n",
       "1119  Away  CHALLENGE          AERIAL-LOST       2        73983   \n",
       "\n",
       "      Start Time [s]  End Frame  End Time [s]      From   To  Start X  \\\n",
       "1117         2959.32      73983       2959.32   Player9  NaN    47.70   \n",
       "1118         2959.32      73995       2959.80   Player9  NaN    47.70   \n",
       "1119         2959.32      73983       2959.32  Player18  NaN    46.64   \n",
       "\n",
       "      Start Y  End X  End Y  Minute  \n",
       "1117    -1.36    NaN    NaN  49.322  \n",
       "1118    -1.36  54.06  -2.04  49.322  \n",
       "1119    -2.72    NaN    NaN  49.322  "
      ]
     },
     "execution_count": 75,
     "metadata": {},
     "output_type": "execute_result"
    }
   ],
   "source": [
    "events.loc[events['Minute']==49.322000]"
   ]
  },
  {
   "cell_type": "code",
   "execution_count": 85,
   "metadata": {},
   "outputs": [
    {
     "data": {
      "text/plain": [
       "73983"
      ]
     },
     "execution_count": 85,
     "metadata": {},
     "output_type": "execute_result"
    }
   ],
   "source": [
    "events.loc[(events['Minute']==49.322000) & (events['Type']=='SHOT')]['Start Frame'].values[0]"
   ]
  },
  {
   "cell_type": "code",
   "execution_count": 86,
   "metadata": {},
   "outputs": [
    {
     "data": {
      "image/png": "[encoded data removed]",
      "text/plain": [
       "<matplotlib.figure.Figure at 0x11646a5f8>"
      ]
     },
     "metadata": {},
     "output_type": "display_data"
    }
   ],
   "source": [
    "KO_Frame = events.loc[(events['Minute']==49.322000) & (events['Type']=='SHOT')]['Start Frame'].values[0]\n",
    "\n",
    "fig,ax = mviz.plot_frame( tracking_home.loc[KO_Frame], tracking_away.loc[KO_Frame] )"
   ]
  },
  {
   "cell_type": "code",
   "execution_count": 92,
   "metadata": {},
   "outputs": [],
   "source": [
    "def calc_player_velocities(team, filter_='Savitzky-Golay', window=7, polyorder=1, maxspeed = 10):\n",
    "    # Get the player ids\n",
    "    player_ids = np.unique( [ c[:-2] for c in team.columns if c[:4] in ['Home','Away'] ] )\n",
    "\n",
    "    # Calculate the timestep from one frame to the next. Should always be 0.04 within the same half\n",
    "    dt = team['Time [s]'].diff()\n",
    "    # index of first frame in second half\n",
    "    second_half_idx = team.Period.idxmax(2)\n",
    "    # estimate velocities for players in team\n",
    "    for player in player_ids: # cycle through players individually\n",
    "        # difference player positions in timestep dt to get unsmoothed estimate of velicity\n",
    "        vx = team[player+\"_x\"].diff() / dt\n",
    "        vy = team[player+\"_y\"].diff() / dt\n",
    "        \n",
    "        # calculate first half velocity\n",
    "        vx.loc[:second_half_idx] = signal.savgol_filter(vx.loc[:second_half_idx],window_length=window,polyorder=polyorder)\n",
    "        vy.loc[:second_half_idx] = signal.savgol_filter(vy.loc[:second_half_idx],window_length=window,polyorder=polyorder)\n",
    "        \n",
    "        # calculate second half velocity\n",
    "        vx.loc[second_half_idx:] = signal.savgol_filter(vx.loc[second_half_idx:],window_length=window,polyorder=polyorder)\n",
    "        vy.loc[second_half_idx:] = signal.savgol_filter(vy.loc[second_half_idx:],window_length=window,polyorder=polyorder)\n",
    "        \n",
    "        # put player speed in x,y direction, and total speed back in the data frame\n",
    "        team[player + \"_vx\"] = vx\n",
    "        team[player + \"_vy\"] = vy\n",
    "        team[player + \"_speed\"] = np.sqrt( vx**2 + vy**2 )\n",
    "\n",
    "        #still need to implement a maxspeed cut-off\n",
    "    return team"
   ]
  },
  {
   "cell_type": "code",
   "execution_count": 115,
   "metadata": {},
   "outputs": [
    {
     "data": {
      "text/plain": [
       "array(['away_15_', 'away_16_', 'away_17_', 'away_18_', 'away_19_',\n",
       "       'away_20_', 'away_21_', 'away_22_', 'away_23_', 'away_24_',\n",
       "       'away_25_', 'away_26_', 'home_10_', 'home_11_', 'home_12_',\n",
       "       'home_13_', 'home_14_', 'home_1_', 'home_2_', 'home_3_', 'home_4_',\n",
       "       'home_5_', 'home_6_', 'home_7_', 'home_8_', 'home_9_'], dtype='<U8')"
      ]
     },
     "execution_count": 115,
     "metadata": {},
     "output_type": "execute_result"
    }
   ],
   "source": [
    "calc_player_distance(tracking_data)"
   ]
  },
  {
   "cell_type": "code",
   "execution_count": 114,
   "metadata": {},
   "outputs": [],
   "source": [
    "def calc_player_distance(team, filter_='Savitzky-Golay', window=7, polyorder=1, maxspeed = 10):\n",
    "    # Get the player ids\n",
    "    player_ids = np.unique( [ c[:-1] for c in team.columns if c[:4] in ['home','away'] ] )\n",
    "    return player_ids"
   ]
  },
  {
   "cell_type": "code",
   "execution_count": 123,
   "metadata": {},
   "outputs": [
    {
     "data": {
      "text/plain": [
       "Index(['Period_x', 'Time [s]_x', 'home_11_x', 'home_11_y', 'home_1_x',\n",
       "       'home_1_y', 'home_2_x', 'home_2_y', 'home_3_x', 'home_3_y', 'home_4_x',\n",
       "       'home_4_y', 'home_5_x', 'home_5_y', 'home_6_x', 'home_6_y', 'home_7_x',\n",
       "       'home_7_y', 'home_8_x', 'home_8_y', 'home_9_x', 'home_9_y', 'home_10_x',\n",
       "       'home_10_y', 'home_12_x', 'home_12_y', 'home_13_x', 'home_13_y',\n",
       "       'home_14_x', 'home_14_y', 'Period_y', 'Time [s]_y', 'away_25_x',\n",
       "       'away_25_y', 'away_15_x', 'away_15_y', 'away_16_x', 'away_16_y',\n",
       "       'away_17_x', 'away_17_y', 'away_18_x', 'away_18_y', 'away_19_x',\n",
       "       'away_19_y', 'away_20_x', 'away_20_y', 'away_21_x', 'away_21_y',\n",
       "       'away_22_x', 'away_22_y', 'away_23_x', 'away_23_y', 'away_24_x',\n",
       "       'away_24_y', 'away_26_x', 'away_26_y', 'ball_x', 'ball_y', 'Time_mins',\n",
       "       'Minute'],\n",
       "      dtype='object')"
      ]
     },
     "execution_count": 123,
     "metadata": {},
     "output_type": "execute_result"
    }
   ],
   "source": [
    "tracking_data.columns"
   ]
  },
  {
   "cell_type": "code",
   "execution_count": 134,
   "metadata": {},
   "outputs": [],
   "source": [
    "player_ids = np.unique( [ c[:-1] for c in tracking_data.columns if c[:4] in ['home','away'] ] )"
   ]
  },
  {
   "cell_type": "code",
   "execution_count": 148,
   "metadata": {},
   "outputs": [],
   "source": [
    "player_location_data = tracking_data[[player_ids[0]+'x',player_ids[0]+'y']].values"
   ]
  },
  {
   "cell_type": "code",
   "execution_count": 172,
   "metadata": {},
   "outputs": [],
   "source": [
    "player_dist={}\n",
    "for player_id in player_ids:\n",
    "    player_location_data = tracking_data[[player_id+'x',player_id+'y']].values\n",
    "\n",
    "    dis_list = []\n",
    "    for ind, val in enumerate(player_location_data):\n",
    "        if ind == len(player_location_data)-1:\n",
    "            break\n",
    "        a,b = val, player_location_data[ind+1]\n",
    "        if ind == 0:\n",
    "            dis_list.append(0)\n",
    "        dis_list.append(np.linalg.norm(a-b))\n",
    "    dis_list = np.asarray(dis_list)\n",
    "    player_dist[player_id]=dis_list\n"
   ]
  },
  {
   "cell_type": "code",
   "execution_count": null,
   "metadata": {},
   "outputs": [],
   "source": []
  },
  {
   "cell_type": "code",
   "execution_count": 217,
   "metadata": {},
   "outputs": [],
   "source": [
    "player_dist_sum = {}\n",
    "for i in player_dist.keys():\n",
    "    player_dist_sum[i]  = np.nansum(player_dist[i])\n"
   ]
  },
  {
   "cell_type": "code",
   "execution_count": 215,
   "metadata": {},
   "outputs": [],
   "source": [
    "import pandas as pd"
   ]
  },
  {
   "cell_type": "code",
   "execution_count": 227,
   "metadata": {},
   "outputs": [
    {
     "data": {
      "text/html": [
       "<div>\n",
       "<style scoped>\n",
       "    .dataframe tbody tr th:only-of-type {\n",
       "        vertical-align: middle;\n",
       "    }\n",
       "\n",
       "    .dataframe tbody tr th {\n",
       "        vertical-align: top;\n",
       "    }\n",
       "\n",
       "    .dataframe thead th {\n",
       "        text-align: right;\n",
       "    }\n",
       "</style>\n",
       "<table border=\"1\" class=\"dataframe\">\n",
       "  <thead>\n",
       "    <tr style=\"text-align: right;\">\n",
       "      <th></th>\n",
       "      <th>Meters covered</th>\n",
       "    </tr>\n",
       "  </thead>\n",
       "  <tbody>\n",
       "    <tr>\n",
       "      <th>away_15_</th>\n",
       "      <td>10330.623129</td>\n",
       "    </tr>\n",
       "    <tr>\n",
       "      <th>away_16_</th>\n",
       "      <td>9601.728664</td>\n",
       "    </tr>\n",
       "    <tr>\n",
       "      <th>away_17_</th>\n",
       "      <td>9406.651122</td>\n",
       "    </tr>\n",
       "    <tr>\n",
       "      <th>away_18_</th>\n",
       "      <td>10468.633633</td>\n",
       "    </tr>\n",
       "    <tr>\n",
       "      <th>away_19_</th>\n",
       "      <td>11245.079019</td>\n",
       "    </tr>\n",
       "    <tr>\n",
       "      <th>away_20_</th>\n",
       "      <td>10981.186328</td>\n",
       "    </tr>\n",
       "    <tr>\n",
       "      <th>away_21_</th>\n",
       "      <td>10073.053749</td>\n",
       "    </tr>\n",
       "    <tr>\n",
       "      <th>away_22_</th>\n",
       "      <td>6419.742064</td>\n",
       "    </tr>\n",
       "    <tr>\n",
       "      <th>away_23_</th>\n",
       "      <td>9736.236143</td>\n",
       "    </tr>\n",
       "    <tr>\n",
       "      <th>away_24_</th>\n",
       "      <td>9967.092460</td>\n",
       "    </tr>\n",
       "    <tr>\n",
       "      <th>away_25_</th>\n",
       "      <td>3718.693949</td>\n",
       "    </tr>\n",
       "    <tr>\n",
       "      <th>away_26_</th>\n",
       "      <td>3773.752363</td>\n",
       "    </tr>\n",
       "    <tr>\n",
       "      <th>home_10_</th>\n",
       "      <td>9098.232198</td>\n",
       "    </tr>\n",
       "    <tr>\n",
       "      <th>home_11_</th>\n",
       "      <td>5328.749976</td>\n",
       "    </tr>\n",
       "    <tr>\n",
       "      <th>home_12_</th>\n",
       "      <td>3092.069800</td>\n",
       "    </tr>\n",
       "    <tr>\n",
       "      <th>home_13_</th>\n",
       "      <td>2395.689321</td>\n",
       "    </tr>\n",
       "    <tr>\n",
       "      <th>home_14_</th>\n",
       "      <td>1092.924888</td>\n",
       "    </tr>\n",
       "    <tr>\n",
       "      <th>home_1_</th>\n",
       "      <td>10435.910546</td>\n",
       "    </tr>\n",
       "    <tr>\n",
       "      <th>home_2_</th>\n",
       "      <td>9991.684623</td>\n",
       "    </tr>\n",
       "    <tr>\n",
       "      <th>home_3_</th>\n",
       "      <td>9631.355462</td>\n",
       "    </tr>\n",
       "    <tr>\n",
       "      <th>home_4_</th>\n",
       "      <td>7321.092038</td>\n",
       "    </tr>\n",
       "    <tr>\n",
       "      <th>home_5_</th>\n",
       "      <td>12242.253654</td>\n",
       "    </tr>\n",
       "    <tr>\n",
       "      <th>home_6_</th>\n",
       "      <td>11608.051710</td>\n",
       "    </tr>\n",
       "    <tr>\n",
       "      <th>home_7_</th>\n",
       "      <td>11298.449736</td>\n",
       "    </tr>\n",
       "    <tr>\n",
       "      <th>home_8_</th>\n",
       "      <td>9113.617593</td>\n",
       "    </tr>\n",
       "    <tr>\n",
       "      <th>home_9_</th>\n",
       "      <td>9856.172043</td>\n",
       "    </tr>\n",
       "  </tbody>\n",
       "</table>\n",
       "</div>"
      ],
      "text/plain": [
       "          Meters covered\n",
       "away_15_    10330.623129\n",
       "away_16_     9601.728664\n",
       "away_17_     9406.651122\n",
       "away_18_    10468.633633\n",
       "away_19_    11245.079019\n",
       "away_20_    10981.186328\n",
       "away_21_    10073.053749\n",
       "away_22_     6419.742064\n",
       "away_23_     9736.236143\n",
       "away_24_     9967.092460\n",
       "away_25_     3718.693949\n",
       "away_26_     3773.752363\n",
       "home_10_     9098.232198\n",
       "home_11_     5328.749976\n",
       "home_12_     3092.069800\n",
       "home_13_     2395.689321\n",
       "home_14_     1092.924888\n",
       "home_1_     10435.910546\n",
       "home_2_      9991.684623\n",
       "home_3_      9631.355462\n",
       "home_4_      7321.092038\n",
       "home_5_     12242.253654\n",
       "home_6_     11608.051710\n",
       "home_7_     11298.449736\n",
       "home_8_      9113.617593\n",
       "home_9_      9856.172043"
      ]
     },
     "execution_count": 227,
     "metadata": {},
     "output_type": "execute_result"
    }
   ],
   "source": [
    "pd.DataFrame.from_dict(player_dist_sum, orient='index').rename(columns={0:'Meters covered'})"
   ]
  }
 ],
 "metadata": {
  "kernelspec": {
   "display_name": "Python 3",
   "language": "python",
   "name": "python3"
  },
  "language_info": {
   "codemirror_mode": {
    "name": "ipython",
    "version": 3
   },
   "file_extension": ".py",
   "mimetype": "text/x-python",
   "name": "python",
   "nbconvert_exporter": "python",
   "pygments_lexer": "ipython3",
   "version": "3.6.4"
  }
 },
 "nbformat": 4,
 "nbformat_minor": 4
}
